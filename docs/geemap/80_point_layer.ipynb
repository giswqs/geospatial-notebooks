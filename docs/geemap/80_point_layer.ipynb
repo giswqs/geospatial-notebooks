{
 "cells": [
  {
   "cell_type": "markdown",
   "id": "0adb7482-7364-43f6-ad87-52665fe0c3f0",
   "metadata": {},
   "source": [
    "[![Open In Colab](https://colab.research.google.com/assets/colab-badge.svg)](https://colab.research.google.com/github/giswqs/geemap/blob/master/examples/notebooks/80_point_layer.ipynb)"
   ]
  },
  {
   "cell_type": "markdown",
   "id": "4fdf0a15-0bd6-4665-ace5-25ab889fb0c1",
   "metadata": {},
   "source": [
    "Uncomment the following line to install [geemap](https://geemap.org) if needed."
   ]
  },
  {
   "cell_type": "code",
   "execution_count": null,
   "id": "34370b01-3a8c-45fc-872d-b6d450f58f6c",
   "metadata": {},
   "outputs": [],
   "source": [
    "import geemap"
   ]
  },
  {
   "cell_type": "code",
   "execution_count": null,
   "id": "7f736b63-02be-4117-bde7-05834f17d7b8",
   "metadata": {},
   "outputs": [],
   "source": [
    "# geemap.update_package()"
   ]
  },
  {
   "cell_type": "code",
   "execution_count": null,
   "id": "a205787f-5ef7-41dc-891c-e2c839386200",
   "metadata": {},
   "outputs": [],
   "source": [
    "m = geemap.Map()"
   ]
  },
  {
   "cell_type": "code",
   "execution_count": null,
   "id": "8b779f29-2795-452f-ac02-58508754b0a0",
   "metadata": {},
   "outputs": [],
   "source": [
    "url = \"https://raw.githubusercontent.com/giswqs/leafmap/master/examples/data/us_cities.geojson\""
   ]
  },
  {
   "cell_type": "code",
   "execution_count": null,
   "id": "59f7fdcd-abbb-4a64-91e2-5a2ac303c0e1",
   "metadata": {},
   "outputs": [],
   "source": [
    "m.add_point_layer(url, popup=[\"name\", \"pop_max\"], layer_name=\"US Cities\")\n",
    "m"
   ]
  }
 ],
 "metadata": {
  "kernelspec": {
   "display_name": "Python 3 (ipykernel)",
   "language": "python",
   "name": "python3"
  },
  "language_info": {
   "codemirror_mode": {
    "name": "ipython",
    "version": 3
   },
   "file_extension": ".py",
   "mimetype": "text/x-python",
   "name": "python",
   "nbconvert_exporter": "python",
   "pygments_lexer": "ipython3",
   "version": "3.8.10"
  }
 },
 "nbformat": 4,
 "nbformat_minor": 5
}
